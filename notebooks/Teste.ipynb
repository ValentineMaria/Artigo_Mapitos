{
 "cells": [
  {
   "cell_type": "code",
   "execution_count": 2,
   "id": "46034f55",
   "metadata": {},
   "outputs": [
    {
     "data": {
      "text/plain": [
       "regional\n",
       "Araguatins                 193\n",
       "Paraiso                    187\n",
       "Araguína                   176\n",
       "Gurupi                     123\n",
       "Miracema                   114\n",
       "Porto Nacional              92\n",
       "Taguatinga do Tocantins     85\n",
       "Colinas                     45\n",
       "Name: count, dtype: int64"
      ]
     },
     "execution_count": 2,
     "metadata": {},
     "output_type": "execute_result"
    }
   ],
   "source": [
    "import pandas as pd\n",
    "import os\n",
    "df = pd.read_csv(\"C:/Users/Valentine/Artigo_Mapitos/data_clean/05_Regionais/Regionais/04_Atividades_Mun.csv\")\n",
    "df['regional'].value_counts(dropna=False)"
   ]
  },
  {
   "cell_type": "code",
   "execution_count": null,
   "id": "254e642b",
   "metadata": {},
   "outputs": [],
   "source": []
  }
 ],
 "metadata": {
  "kernelspec": {
   "display_name": "tocantins_env",
   "language": "python",
   "name": "python3"
  },
  "language_info": {
   "codemirror_mode": {
    "name": "ipython",
    "version": 3
   },
   "file_extension": ".py",
   "mimetype": "text/x-python",
   "name": "python",
   "nbconvert_exporter": "python",
   "pygments_lexer": "ipython3",
   "version": "3.10.18"
  }
 },
 "nbformat": 4,
 "nbformat_minor": 5
}
