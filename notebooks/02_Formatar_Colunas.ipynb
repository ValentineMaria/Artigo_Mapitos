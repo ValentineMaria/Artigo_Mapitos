{
 "cells": [
  {
   "cell_type": "code",
   "execution_count": 1,
   "id": "5731598b",
   "metadata": {},
   "outputs": [
    {
     "name": "stdout",
     "output_type": "stream",
     "text": [
      "✅ 01_Atividades_Mun.csv formatado e salvo.\n",
      "✅ 01_Autorizacao_Uso_Agua_Mun.csv formatado e salvo.\n",
      "✅ 01_Politicas_Publicas_Mun.csv formatado e salvo.\n",
      "✅ 01_Uso_Convencionais_Degradacao_Mun.csv formatado e salvo.\n",
      "✅ 01_Uso_Sustentavel_Degradacao_Mun.csv formatado e salvo.\n",
      "✅ atividade_tamanho.csv formatado e salvo.\n",
      "✅ politica_publica_tamanho.csv formatado e salvo.\n",
      "✅ uso_convencionais_tamanho.csv formatado e salvo.\n",
      "✅ Uso_de_Agrotox_por_tamanho.csv formatado e salvo.\n",
      "✅ uso_sustentaveis_tamanho.csv formatado e salvo.\n"
     ]
    }
   ],
   "source": [
    "# %% [markdown]\n",
    "# # 1️⃣ Formatar Colunas\n",
    "# Este notebook padroniza os nomes de colunas e mantém apenas as relevantes.\n",
    "# Salva as tabelas limpas na pasta `data_clean/01_Formatado/`.\n",
    "\n",
    "import pandas as pd\n",
    "import os\n",
    "\n",
    "input_dir = \"C:/Users/Valentine/Artigo_Mapitos/data_clean/01_Municipios_Normalizados\"\n",
    "output_dir = \"C:/Users/Valentine/Artigo_Mapitos/data_clean/02_Formatado\"\n",
    "os.makedirs(output_dir, exist_ok=True)\n",
    "\n",
    "# Dicionário de colunas para cada arquivo (você preenche aos poucos)\n",
    "colunas_por_arquivo = {\n",
    "    \"01_Atividades_Mun.csv\": [\"atividade_produtiva\", \"municipio_ibge\", \"Record Count\"],\n",
    "    \"01_Autorizacao_Uso_Agua_Mun.csv\": [\"autorizacao_para_uso_de_agua__\", \"municipio_ibge\", \"Record Count\"],\n",
    "    \"01_Politicas_Publicas_Mun.csv\": [\"acessa_ou_ja_acessou_politicas_publicas__\", \"municipio_ibge\", \"Record Count\"],\n",
    "    \"01_Uso_Convencionais_Degradacao_Mun.csv\": [\"uso_de_praticas_convencionais\", \"qual_o_nivel_de_degradacao_que_predomina_nas_pastagens_\", \"municipio_ibge\", \"Record Count\"],\n",
    "    \"01_Uso_Sustentavel_Degradacao_Mun.csv\": [\"uso_de_praticas_sustentaveis_\", \"qual_o_nivel_de_degradacao_que_predomina_nas_pastagens_\", \"municipio_ibge\", \"Record Count\"],\n",
    "    \"atividade_tamanho.csv\": [\"atividade_produtiva\", \"area_da_propriedade__hectares__\", \"Record Count\"],\n",
    "    \"politica_publica_tamanho.csv\": [\"acessa_ou_ja_acessou_politicas_publicas__\", \"area_da_propriedade__hectares__\", \"Record Count\"],\n",
    "    \"uso_convencionais_tamanho.csv\": [\"uso_de_praticas_convencionais\", \"area_da_propriedade__hectares__\",\"regional_\",\"Record Count\"],\n",
    "    \"Uso_de_Agrotox_por_tamanho.csv\": [\"usa_agrotoxicos_\", \"area_da_propriedade__hectares__\",\"regional_\",\"Record Count\"],\n",
    "    \"uso_sustentaveis_tamanho.csv\": [\"uso_de_praticas_sustentaveis_\", \"area_da_propriedade__hectares__\",\"regional_\", \"Record Count\"]\n",
    "}\n",
    "\n",
    "for nome, colunas in colunas_por_arquivo.items():\n",
    "    caminho = os.path.join(input_dir, nome)\n",
    "    if not os.path.exists(caminho):\n",
    "        print(f\"⚠️ {nome} não encontrado.\")\n",
    "        continue\n",
    "    \n",
    "    df = pd.read_csv(caminho)\n",
    "    colunas_existentes = [c for c in colunas if c in df.columns]\n",
    "    df = df[colunas_existentes]\n",
    "    df = df.rename(columns={\"Record Count\": \"count\"})\n",
    "    df.to_csv(os.path.join(output_dir, nome), index=False, encoding=\"utf-8-sig\")\n",
    "    print(f\"✅ {nome} formatado e salvo.\")\n"
   ]
  }
 ],
 "metadata": {
  "kernelspec": {
   "display_name": "tocantins_env",
   "language": "python",
   "name": "python3"
  },
  "language_info": {
   "codemirror_mode": {
    "name": "ipython",
    "version": 3
   },
   "file_extension": ".py",
   "mimetype": "text/x-python",
   "name": "python",
   "nbconvert_exporter": "python",
   "pygments_lexer": "ipython3",
   "version": "3.10.18"
  }
 },
 "nbformat": 4,
 "nbformat_minor": 5
}
