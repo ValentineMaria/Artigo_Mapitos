{
 "cells": [
  {
   "cell_type": "code",
   "execution_count": 5,
   "id": "49f5ecf9",
   "metadata": {},
   "outputs": [
    {
     "name": "stderr",
     "output_type": "stream",
     "text": [
      "C:\\Users\\Valentine\\AppData\\Local\\Temp\\ipykernel_12716\\1329273654.py:34: UserWarning: Column names longer than 10 characters will be truncated when saved to ESRI Shapefile.\n",
      "  geo_final.to_file(saida_final, encoding=\"utf-8\")\n"
     ]
    },
    {
     "name": "stdout",
     "output_type": "stream",
     "text": [
      "✅ Shapefile criado com sucesso: C:/Users/Valentine/Artigo_Mapitos/mapas\\05_Atividades_Mun.shp\n",
      "🗺️ Municípios com dados: 977\n"
     ]
    },
    {
     "name": "stderr",
     "output_type": "stream",
     "text": [
      "c:\\Users\\Valentine\\anaconda3\\envs\\tocantins_env\\lib\\site-packages\\pyogrio\\raw.py:723: RuntimeWarning: Normalized/laundered field name: 'atividade_produtiva' to 'atividade_'\n",
      "  ogr_write(\n",
      "c:\\Users\\Valentine\\anaconda3\\envs\\tocantins_env\\lib\\site-packages\\pyogrio\\raw.py:723: RuntimeWarning: Normalized/laundered field name: 'total_respostas' to 'total_resp'\n",
      "  ogr_write(\n"
     ]
    }
   ],
   "source": [
    "# %% [markdown]\n",
    "# # 4️⃣ Gerar shapefiles (somente municípios com dados)\n",
    "# Junta as tabelas agregadas com a geometria dos municípios do Tocantins\n",
    "# e exporta shapefiles contendo apenas os municípios que possuem registros.\n",
    "\n",
    "import geopandas as gpd\n",
    "import pandas as pd\n",
    "import os\n",
    "\n",
    "# Caminhos\n",
    "shp_path = \"C:/Users/Valentine/Artigo_Mapitos/data_raw/data_auxiliar/TO_Municipios_Shape/TO_Municipios_2024.shp\"\n",
    "tabelas_path = \"C:/Users/Valentine/Artigo_Mapitos/data_clean/05_Regionais/Regionais\"\n",
    "saida_path = \"C:/Users/Valentine/Artigo_Mapitos/mapas\"\n",
    "os.makedirs(saida_path, exist_ok=True)\n",
    "\n",
    "# Carregar shapefile IBGE\n",
    "geo = gpd.read_file(shp_path)\n",
    "geo[\"NM_MUN\"] = geo[\"NM_MUN\"].astype(str)\n",
    "\n",
    "# Exemplo: unir com uma das tabelas agregadas\n",
    "arquivo = \"05_Atividades_Mun.csv\"\n",
    "df = pd.read_csv(os.path.join(tabelas_path, arquivo))\n",
    "\n",
    "# Converter código do município para string\n",
    "df[\"municipio_ibge\"] = df[\"municipio_ibge\"].astype(str)\n",
    "df = df.rename(columns={\"municipio_ibge\": \"NM_MUN\"})\n",
    "\n",
    "# Fazer o merge — agora apenas com municípios que possuem dados\n",
    "geo_merged = geo.merge(df, on=\"NM_MUN\", how=\"inner\")  # 👈 apenas registros que aparecem nos dois\n",
    "\n",
    "# Converter em GeoDataFrame e exportar shapefile\n",
    "geo_final = gpd.GeoDataFrame(geo_merged, geometry=\"geometry\")\n",
    "saida_final = os.path.join(saida_path, \"05_Atividades_Mun.shp\")\n",
    "geo_final.to_file(saida_final, encoding=\"utf-8\")\n",
    "\n",
    "print(f\"✅ Shapefile criado com sucesso: {saida_final}\")\n",
    "print(f\"🗺️ Municípios com dados: {geo_final.shape[0]}\")\n"
   ]
  },
  {
   "cell_type": "code",
   "execution_count": null,
   "id": "9fdb79f2",
   "metadata": {},
   "outputs": [],
   "source": []
  }
 ],
 "metadata": {
  "kernelspec": {
   "display_name": "tocantins_env",
   "language": "python",
   "name": "python3"
  },
  "language_info": {
   "codemirror_mode": {
    "name": "ipython",
    "version": 3
   },
   "file_extension": ".py",
   "mimetype": "text/x-python",
   "name": "python",
   "nbconvert_exporter": "python",
   "pygments_lexer": "ipython3",
   "version": "3.10.18"
  }
 },
 "nbformat": 4,
 "nbformat_minor": 5
}
