{
 "cells": [
  {
   "cell_type": "code",
   "execution_count": 7,
   "id": "19ef6ef8",
   "metadata": {},
   "outputs": [
    {
     "name": "stdout",
     "output_type": "stream",
     "text": [
      "Práticas encontradas: ['pratica_aceiros', 'pratica_adubação', 'pratica_adubação verde', 'pratica_apiário', 'pratica_calagem', 'pratica_consórcio', 'pratica_curva de nível', 'pratica_descarte correto de embalagens', 'pratica_floresta', 'pratica_ilp - integração lavoura pecuária', 'pratica_ilpf - integração lavoura pecuária', 'pratica_não usa', 'pratica_outros', 'pratica_plantio direto', 'pratica_reaproveitamento de residuos', 'pratica_recuperação de pastagens', 'pratica_rotação de cultura']\n",
      "Associações significativas (nível 5%):\n",
      "✅ Resultados exportados para: data_analysis/resultados_correlacoes.csv\n"
     ]
    }
   ],
   "source": [
    "# %% [markdown]\n",
    "# # Correlação entre práticas agrícolas e nível de degradação\n",
    "# Teste Qui-Quadrado e correlação de Spearman\n",
    "\n",
    "# %%\n",
    "import pandas as pd\n",
    "import numpy as np\n",
    "from scipy.stats import chi2_contingency, spearmanr\n",
    "\n",
    "# %%\n",
    "# Carregar o dataset codificado (linha a linha)\n",
    "df = pd.read_csv(r\"C:/Users/Valentine/Artigo_Mapitos/data_clean/07_Codificado/07_Sustentaveis_Degradacao_Linha.csv\")\n",
    "\n",
    "# Verificar colunas principais\n",
    "df.head()\n",
    "\n",
    "# %%\n",
    "# Identificar colunas de práticas (todas que começam com 'pratica_')\n",
    "col_praticas = [c for c in df.columns if c.startswith(\"pratica_\")]\n",
    "print(\"Práticas encontradas:\", col_praticas)\n",
    "\n",
    "# %%\n",
    "# Criar uma tabela para armazenar resultados\n",
    "resultados = []\n",
    "\n",
    "for pratica in col_praticas:\n",
    "    # Tabela de contingência (frequência cruzada)\n",
    "    tabela = pd.crosstab(df[pratica], df['degradacao_ord'])\n",
    "    \n",
    "    # Teste Qui-Quadrado\n",
    "    chi2, p, dof, exp = chi2_contingency(tabela)\n",
    "    \n",
    "    # Correlação de Spearman (como alternativa numérica)\n",
    "    rho, p_spear = spearmanr(df[pratica], df['degradacao_ord'])\n",
    "    \n",
    "    resultados.append({\n",
    "        \"Prática\": pratica.replace(\"pratica_\", \"\").replace(\"_\", \" \").title(),\n",
    "        \"Chi²\": round(chi2, 3),\n",
    "        \"p_Chi²\": round(p, 4),\n",
    "        \"Spearman_rho\": round(rho, 3),\n",
    "        \"p_Spearman\": round(p_spear, 4)\n",
    "    })\n",
    "\n",
    "# %%\n",
    "# Converter em DataFrame\n",
    "res = pd.DataFrame(resultados)\n",
    "\n",
    "# Ordenar por significância (p-value)\n",
    "res = res.sort_values(by=\"p_Chi²\")\n",
    "\n",
    "# %%\n",
    "# Exibir resultados significativos (p < 0.05)\n",
    "significativas = res[(res[\"p_Chi²\"] < 0.05) | (res[\"p_Spearman\"] < 0.05)]\n",
    "print(\"Associações significativas (nível 5%):\")\n",
    "significativas\n",
    "\n",
    "# %%\n",
    "# Exportar resultados\n",
    "res.to_csv(r\"C:/Users/Valentine/Artigo_Mapitos/data_analysis/correlacoes_sust_degr.csv\", index=False, encoding=\"utf-8-sig\")\n",
    "print(\"✅ Resultados exportados para: data_analysis/resultados_correlacoes.csv\")\n"
   ]
  }
 ],
 "metadata": {
  "kernelspec": {
   "display_name": "tocantins_env",
   "language": "python",
   "name": "python3"
  },
  "language_info": {
   "codemirror_mode": {
    "name": "ipython",
    "version": 3
   },
   "file_extension": ".py",
   "mimetype": "text/x-python",
   "name": "python",
   "nbconvert_exporter": "python",
   "pygments_lexer": "ipython3",
   "version": "3.10.18"
  }
 },
 "nbformat": 4,
 "nbformat_minor": 5
}
