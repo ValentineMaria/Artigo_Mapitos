{
 "cells": [
  {
   "cell_type": "code",
   "execution_count": 3,
   "id": "39d90b0f",
   "metadata": {},
   "outputs": [
    {
     "name": "stdout",
     "output_type": "stream",
     "text": [
      "✅ 02_Atividade_Tamanho.csv explodido e salvo.\n",
      "✅ 02_Atividades_Mun.csv explodido e salvo.\n",
      "✅ 02_Politica_Publica_Tamanho.csv explodido e salvo.\n",
      "✅ 02_Politicas_Publicas_Mun.csv explodido e salvo.\n",
      "✅ 02_Uso_Convencionais_Tamanho.csv explodido e salvo.\n",
      "✅ 02_Uso_Sustentaveis_Tamanho.csv explodido e salvo.\n",
      "✅ 02_Uso_Convencionais_Degradacao_Mun.csv explodido e salvo.\n",
      "✅ 02_Uso_Sustentavel_Degradacao_Mun.csv explodido e salvo.\n"
     ]
    }
   ],
   "source": [
    "# %% [markdown]\n",
    "# # 2️⃣ Explodir Dados\n",
    "# Expande colunas com múltiplas respostas em linhas separadas.\n",
    "# Salva em `data_clean/03_Explodido/`.\n",
    "\n",
    "import pandas as pd\n",
    "import os\n",
    "\n",
    "input_dir = \"C:/Users/Valentine/Artigo_Mapitos/data_clean/02_Formatado\"\n",
    "output_dir = \"C:/Users/Valentine/Artigo_Mapitos/data_clean/03_Explodido\"\n",
    "os.makedirs(output_dir, exist_ok=True)\n",
    "\n",
    "def expandir_colunas_multiplas(df, colunas):\n",
    "    for col in colunas:\n",
    "        df[col] = df[col].astype(str).str.replace(\" e \", \",\").str.replace(\"/\", \",\")\n",
    "        df = df.assign(**{col: df[col].str.split(\",\")}).explode(col)\n",
    "        df[col] = df[col].str.strip().str.capitalize()\n",
    "    return df\n",
    "\n",
    "# Arquivos que precisam ser explodidos\n",
    "arquivos_explodir = [\n",
    "    \"02_Atividade_Tamanho.csv\",\n",
    "    \"02_Atividades_Mun.csv\",\n",
    "    \"02_Politica_Publica_Tamanho.csv\",\n",
    "    \"02_Politicas_Publicas_Mun.csv\",\n",
    "    \"02_Uso_Convencionais_Tamanho.csv\",\n",
    "    \"02_Uso_Sustentaveis_Tamanho.csv\",\n",
    "    \"02_Uso_Convencionais_Degradacao_Mun.csv\",\n",
    "    \"02_Uso_Sustentavel_Degradacao_Mun.csv\"\n",
    "]\n",
    "\n",
    "for nome in arquivos_explodir:\n",
    "    caminho = os.path.join(input_dir, nome)\n",
    "    if not os.path.exists(caminho):\n",
    "        print(f\"⚠️ {nome} não encontrado.\")\n",
    "        continue\n",
    "    \n",
    "    df = pd.read_csv(caminho)\n",
    "    colunas_multiplas = [c for c in df.columns if df[c].astype(str).str.contains(\",|/| e \").any()]\n",
    "    df_exp = expandir_colunas_multiplas(df, colunas_multiplas)\n",
    "    df_exp.to_csv(os.path.join(output_dir, nome), index=False, encoding=\"utf-8-sig\")\n",
    "    print(f\"✅ {nome} explodido e salvo.\")\n"
   ]
  }
 ],
 "metadata": {
  "kernelspec": {
   "display_name": "tocantins_env",
   "language": "python",
   "name": "python3"
  },
  "language_info": {
   "codemirror_mode": {
    "name": "ipython",
    "version": 3
   },
   "file_extension": ".py",
   "mimetype": "text/x-python",
   "name": "python",
   "nbconvert_exporter": "python",
   "pygments_lexer": "ipython3",
   "version": "3.10.18"
  }
 },
 "nbformat": 4,
 "nbformat_minor": 5
}
