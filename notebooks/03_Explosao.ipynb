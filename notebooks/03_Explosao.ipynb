{
 "cells": [
  {
   "cell_type": "code",
   "execution_count": null,
   "id": "39d90b0f",
   "metadata": {},
   "outputs": [],
   "source": [
    "# %% [markdown]\n",
    "# # 2️⃣ Explodir Dados\n",
    "# Expande colunas com múltiplas respostas em linhas separadas.\n",
    "# Salva em `data_clean/03_Explodido/`.\n",
    "\n",
    "import pandas as pd\n",
    "import os\n",
    "\n",
    "input_dir = \"C:/Users/Valentine/Artigo_Mapitos/data_clean/02_Formatado\"\n",
    "output_dir = \"C:/Users/Valentine/Artigo_Mapitos/data_clean/03_Explodido\"\n",
    "os.makedirs(output_dir, exist_ok=True)\n",
    "\n",
    "def expandir_colunas_multiplas(df, colunas):\n",
    "    for col in colunas:\n",
    "        df[col] = df[col].astype(str).str.replace(\" e \", \",\").str.replace(\"/\", \",\")\n",
    "        df = df.assign(**{col: df[col].str.split(\",\")}).explode(col)\n",
    "        df[col] = df[col].str.strip().str.capitalize()\n",
    "    return df\n",
    "\n",
    "# Arquivos que precisam ser explodidos\n",
    "arquivos_explodir = [\n",
    "    \"02_Atividade_Tamanho.csv\",\n",
    "    \"02_Politica_Publica_Tamanho.csv\",\n",
    "    \"02_Uso_Convencionais_Tamanho.csv\",\n",
    "    \"02_Uso_de_Agrotox_Tamanho.csv\",\n",
    "    \"uso_sustentaveis_tamanho.csv\",\n",
    "    \"02_Uso_Convencionais_Degradacao_Mun.csv\",\n",
    "    \"02_Uso_Sustentavel_Degradacao_Mun.csv\"\n",
    "]\n",
    "\n",
    "for nome in arquivos_explodir:\n",
    "    caminho = os.path.join(input_dir, nome)\n",
    "    if not os.path.exists(caminho):\n",
    "        print(f\"⚠️ {nome} não encontrado.\")\n",
    "        continue\n",
    "    \n",
    "    df = pd.read_csv(caminho)\n",
    "    colunas_multiplas = [c for c in df.columns if df[c].astype(str).str.contains(\",|/| e \").any()]\n",
    "    df_exp = expandir_colunas_multiplas(df, colunas_multiplas)\n",
    "    df_exp.to_csv(os.path.join(output_dir, nome), index=False, encoding=\"utf-8-sig\")\n",
    "    print(f\"✅ {nome} explodido e salvo.\")\n"
   ]
  }
 ],
 "metadata": {
  "language_info": {
   "name": "python"
  }
 },
 "nbformat": 4,
 "nbformat_minor": 5
}
