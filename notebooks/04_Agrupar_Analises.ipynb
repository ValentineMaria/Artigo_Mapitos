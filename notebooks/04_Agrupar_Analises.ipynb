{
 "cells": [
  {
   "cell_type": "code",
   "execution_count": 7,
   "id": "37d55036",
   "metadata": {},
   "outputs": [
    {
     "name": "stdout",
     "output_type": "stream",
     "text": [
      "✅ 02_Autorizacao_Uso_Agua_Mun.csv agrupado e salvo.\n",
      "✅ 03_Uso_Convencionais_Degradacao_Mun.csv agrupado e salvo.\n",
      "✅ 03_Uso_Sustentavel_Degradacao_Mun.csv agrupado e salvo.\n",
      "✅ 02_Uso_de_Agrotox_Tamanho.csv agrupado e salvo.\n",
      "✅ 03_Politica_Publica_Tamanho.csv agrupado e salvo.\n",
      "✅ 03_Uso_Convencionais_Tamanho.csv agrupado e salvo.\n",
      "✅ 03_Uso_Sustentaveis_Tamanho.csv agrupado e salvo.\n",
      "✅ 03_Atividades_Mun.csv agrupado e salvo.\n",
      "✅ 03_Atividade_Tamanho.csv agrupado e salvo.\n",
      "✅ 03_Politicas_Publicas_Mun.csv agrupado e salvo.\n"
     ]
    }
   ],
   "source": [
    "# %% [markdown]\n",
    "# # 3️⃣ Agrupar e Gerar Tabelas Finais\n",
    "# Cria tabelas agregadas e consolidadas, prontas para análise e mapas.\n",
    "\n",
    "import pandas as pd\n",
    "import os\n",
    "\n",
    "input_dir = \"C:/Users/Valentine/Artigo_Mapitos/data_clean/03_Explodido\"\n",
    "output_dir = \"C:/Users/Valentine/Artigo_Mapitos/data_clean/04_Agregado\"\n",
    "os.makedirs(output_dir, exist_ok=True)\n",
    "\n",
    "def agrupar_por(df, colunas):\n",
    "    resumo = df.groupby(colunas).agg(total_respostas=(\"count\", \"sum\")).reset_index()\n",
    "    return resumo\n",
    "\n",
    "# Agrupamentos específicos\n",
    "agrupamentos = {\n",
    "    \"02_Autorizacao_Uso_Agua_Mun.csv\": [\"municipio_ibge\", \"autorizacao_para_uso_de_agua__\"],\n",
    "    \"03_Uso_Convencionais_Degradacao_Mun.csv\": [\"municipio_ibge\", \"uso_de_praticas_convencionais\", \"qual_o_nivel_de_degradacao_que_predomina_nas_pastagens_\"],\n",
    "    \"03_Uso_Sustentavel_Degradacao_Mun.csv\": [\"municipio_ibge\", \"uso_de_praticas_sustentaveis_\", \"qual_o_nivel_de_degradacao_que_predomina_nas_pastagens_\"],\n",
    "    \"02_Uso_de_Agrotox_Tamanho.csv\": [\"regional_\",\"area_da_propriedade__hectares__\", \"usa_agrotoxicos_\"],\n",
    "    \"03_Politica_Publica_Tamanho.csv\": [\"area_da_propriedade__hectares__\", \"acessa_ou_ja_acessou_politicas_publicas__\"],\n",
    "    \"03_Uso_Convencionais_Tamanho.csv\": [\"area_da_propriedade__hectares__\", \"uso_de_praticas_convencionais\"],\n",
    "    \"03_Uso_Sustentaveis_Tamanho.csv\": [\"area_da_propriedade__hectares__\", \"uso_de_praticas_sustentaveis_\"],\n",
    "    \"03_Atividades_Mun.csv\":[\"municipio_ibge\",\"atividade_produtiva\"],\n",
    "    \"03_Atividade_Tamanho.csv\" : [\"area_da_propriedade__hectares__\", \"atividade_produtiva\"],\n",
    "    \"03_Politicas_Publicas_Mun.csv\" : [\"municipio_ibge\", \"acessa_ou_ja_acessou_politicas_publicas__\"]\n",
    "}\n",
    "\n",
    "for nome, colunas in agrupamentos.items():\n",
    "    caminho = os.path.join(input_dir, nome)\n",
    "    if not os.path.exists(caminho):\n",
    "        print(f\"⚠️ {nome} não encontrado.\")\n",
    "        continue\n",
    "\n",
    "    df = pd.read_csv(caminho)\n",
    "    df_grouped = agrupar_por(df, colunas)\n",
    "    df_grouped.to_csv(os.path.join(output_dir, nome), index=False, encoding=\"utf-8-sig\")\n",
    "    print(f\"✅ {nome} agrupado e salvo.\")\n"
   ]
  }
 ],
 "metadata": {
  "kernelspec": {
   "display_name": "tocantins_env",
   "language": "python",
   "name": "python3"
  },
  "language_info": {
   "codemirror_mode": {
    "name": "ipython",
    "version": 3
   },
   "file_extension": ".py",
   "mimetype": "text/x-python",
   "name": "python",
   "nbconvert_exporter": "python",
   "pygments_lexer": "ipython3",
   "version": "3.10.18"
  }
 },
 "nbformat": 4,
 "nbformat_minor": 5
}
