{
 "cells": [
  {
   "cell_type": "code",
   "execution_count": null,
   "id": "b96b5233",
   "metadata": {
    "vscode": {
     "languageId": "plaintext"
    }
   },
   "outputs": [],
   "source": [
    "\"01_Autorizacao_Uso_Agua_Mun.csv\": [\"autorizacao_para_uso_de_agua__\",\"codigo_final\", \"municipio_ibge\", \"Record Count\"],"
   ]
  }
 ],
 "metadata": {
  "language_info": {
   "name": "python"
  }
 },
 "nbformat": 4,
 "nbformat_minor": 5
}
